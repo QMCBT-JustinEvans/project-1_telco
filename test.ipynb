{
 "cells": [
  {
   "cell_type": "code",
   "execution_count": 1,
   "id": "926abaa6",
   "metadata": {},
   "outputs": [],
   "source": [
    "import pandas as pd\n",
    "import numpy as np\n",
    "\n",
    "import matplotlib.pyplot as plt\n",
    "import seaborn as sns\n",
    "import os\n",
    "\n",
    "from sklearn.model_selection import train_test_split\n",
    "import sklearn.preprocessing\n",
    "from sklearn.tree import DecisionTreeClassifier\n",
    "from sklearn.ensemble import RandomForestClassifier\n",
    "from sklearn.neighbors import KNeighborsClassifier\n",
    "from sklearn.linear_model import LogisticRegression\n",
    "\n",
    "#import warnings\n",
    "#warnings.filterwarnings(\"ignore\")\n",
    "\n",
    "from scipy import stats\n",
    "import re\n",
    "\n",
    "import wrangle as w\n",
    "import QMCBT_explore_evaluate as ee\n",
    "#import QMCBT_modeling as m"
   ]
  },
  {
   "cell_type": "code",
   "execution_count": 2,
   "id": "294b7ead",
   "metadata": {},
   "outputs": [],
   "source": [
    "from env import user, password, host"
   ]
  },
  {
   "cell_type": "code",
   "execution_count": 3,
   "id": "c153057c",
   "metadata": {},
   "outputs": [],
   "source": [
    "def get_db_url(db):\n",
    "    '''\n",
    "    This function calls the username, password, and host from env file and provides database argument for SQL\n",
    "    '''\n",
    "    return f'mysql+pymysql://{user}:{password}@{host}/{db}'"
   ]
  },
  {
   "cell_type": "code",
   "execution_count": 4,
   "id": "951b4533",
   "metadata": {},
   "outputs": [],
   "source": [
    "def test_telco_df():\n",
    "    '''\n",
    "    This function reads the telco_churn (NOT telco_normalized) data from the Codeup database into a DataFrame.\n",
    "    '''\n",
    "    # Create SQL query.\n",
    "    sql_query = 'SELECT * FROM customers LEFT JOIN internet_service_types USING (internet_service_type_id) LEFT JOIN payment_types USING (payment_type_id) LEFT JOIN customer_churn USING (customer_id) LEFT JOIN customer_contracts USING (customer_id) LEFT JOIN customer_details USING (customer_id) LEFT JOIN customer_payments USING (customer_id) LEFT JOIN customer_signups USING (customer_id) LEFT JOIN customer_subscriptions USING (customer_id)'\n",
    "    \n",
    "    # Read in DataFrame from Codeup db using defined functions.\n",
    "    df = pd.read_sql(sql_query, get_db_url('telco_churn'))\n",
    "    \n",
    "    return df"
   ]
  },
  {
   "cell_type": "code",
   "execution_count": 5,
   "id": "dc0fa194",
   "metadata": {},
   "outputs": [],
   "source": [
    "df = test_telco_df()"
   ]
  },
  {
   "cell_type": "code",
   "execution_count": null,
   "id": "9f2cb3bf",
   "metadata": {},
   "outputs": [],
   "source": [
    "notech = df[df['tech_support']=='No']\n",
    "notech_churn = df[(df.tech_support=='No') & (df.churn=='Yes')]\n",
    "notech_active = df[(df.tech_support=='Yes') & (df.churn=='No')]"
   ]
  },
  {
   "cell_type": "code",
   "execution_count": 6,
   "id": "4101903a",
   "metadata": {},
   "outputs": [
    {
     "data": {
      "text/plain": [
       "Index(['customer_id', 'payment_type_id', 'internet_service_type_id', 'gender',\n",
       "       'senior_citizen', 'partner', 'dependents', 'tenure', 'phone_service',\n",
       "       'multiple_lines', 'online_security', 'online_backup',\n",
       "       'device_protection', 'tech_support', 'streaming_tv', 'streaming_movies',\n",
       "       'contract_type_id', 'paperless_billing', 'monthly_charges',\n",
       "       'total_charges', 'churn', 'internet_service_type', 'payment_type',\n",
       "       'churn_month', 'contract_type_id', 'paperless_billing', 'gender',\n",
       "       'senior_citizen', 'partner', 'dependents', 'payment_type_id',\n",
       "       'monthly_charges', 'total_charges', 'signup_date', 'phone_service',\n",
       "       'multiple_lines', 'internet_service_type_id', 'online_security',\n",
       "       'online_backup', 'device_protection', 'tech_support', 'streaming_tv',\n",
       "       'streaming_movies'],\n",
       "      dtype='object')"
      ]
     },
     "execution_count": 6,
     "metadata": {},
     "output_type": "execute_result"
    }
   ],
   "source": [
    "df.columns"
   ]
  },
  {
   "cell_type": "code",
   "execution_count": null,
   "id": "969b4fd9",
   "metadata": {},
   "outputs": [],
   "source": [
    "df.T"
   ]
  },
  {
   "cell_type": "code",
   "execution_count": null,
   "id": "8e04eb87",
   "metadata": {},
   "outputs": [],
   "source": []
  }
 ],
 "metadata": {
  "kernelspec": {
   "display_name": "Python 3 (ipykernel)",
   "language": "python",
   "name": "python3"
  },
  "language_info": {
   "codemirror_mode": {
    "name": "ipython",
    "version": 3
   },
   "file_extension": ".py",
   "mimetype": "text/x-python",
   "name": "python",
   "nbconvert_exporter": "python",
   "pygments_lexer": "ipython3",
   "version": "3.9.12"
  }
 },
 "nbformat": 4,
 "nbformat_minor": 5
}
