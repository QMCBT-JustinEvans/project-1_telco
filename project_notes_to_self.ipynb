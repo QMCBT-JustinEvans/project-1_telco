{
 "cells": [
  {
   "cell_type": "markdown",
   "id": "dfca7a05",
   "metadata": {},
   "source": [
    "# NOTES from Present Self to Past Self\n",
    "### What should I have focused on first to better succeed at this project"
   ]
  },
  {
   "cell_type": "markdown",
   "id": "d9ce16bd",
   "metadata": {},
   "source": [
    "# MVP\n",
    "\n",
    "* Start with templated final product, then fill it with completed work.\n",
    "* Spend more time learning how to graph, Tableau is not transferable.\n",
    "* Minimize Talking points.\n",
    "* Explore Tree to determine best Questions to ask.\n"
   ]
  },
  {
   "cell_type": "code",
   "execution_count": null,
   "id": "0dcc7e5e",
   "metadata": {},
   "outputs": [],
   "source": []
  }
 ],
 "metadata": {
  "kernelspec": {
   "display_name": "Python 3 (ipykernel)",
   "language": "python",
   "name": "python3"
  },
  "language_info": {
   "codemirror_mode": {
    "name": "ipython",
    "version": 3
   },
   "file_extension": ".py",
   "mimetype": "text/x-python",
   "name": "python",
   "nbconvert_exporter": "python",
   "pygments_lexer": "ipython3",
   "version": "3.9.12"
  }
 },
 "nbformat": 4,
 "nbformat_minor": 5
}
