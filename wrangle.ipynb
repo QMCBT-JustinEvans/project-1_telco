{
 "cells": [
  {
   "cell_type": "markdown",
   "id": "38062ac1",
   "metadata": {},
   "source": [
    "'''Aquire and Prepare telco data from Codeup SQL database'''"
   ]
  },
  {
   "cell_type": "code",
   "execution_count": 3,
   "id": "8980f80c",
   "metadata": {},
   "outputs": [],
   "source": [
    "import os\n",
    "import pandas as pd\n",
    "import numpy as np\n",
    "\n",
    "import re\n",
    "\n",
    "from sklearn.model_selection import train_test_split\n",
    "import sklearn.preprocessing\n",
    "\n",
    "from env import user, password, host"
   ]
  },
  {
   "cell_type": "markdown",
   "id": "b124753c",
   "metadata": {},
   "source": [
    "######################### Acquire main function #########################"
   ]
  },
  {
   "cell_type": "code",
   "execution_count": 6,
   "id": "25632b2e",
   "metadata": {},
   "outputs": [],
   "source": [
    "def get_db_url(db):\n",
    "    '''\n",
    "    This function calls the username, password, and host from env file and provides database argument for SQL\n",
    "    '''\n",
    "    return f'mysql+pymysql://{user}:{password}@{host}/{db}'"
   ]
  },
  {
   "cell_type": "markdown",
   "id": "ca78c48c",
   "metadata": {},
   "source": [
    "# -------------------------**Telco_Churn DATA** ```FROM SQL```-------------------------"
   ]
  },
  {
   "cell_type": "code",
   "execution_count": 14,
   "id": "9588a980",
   "metadata": {},
   "outputs": [
    {
     "ename": "SyntaxError",
     "evalue": "EOL while scanning string literal (2303635228.py, line 6)",
     "output_type": "error",
     "traceback": [
      "\u001b[0;36m  Input \u001b[0;32mIn [14]\u001b[0;36m\u001b[0m\n\u001b[0;31m    sql_query = 'SELECT * FROM customers\\n\u001b[0m\n\u001b[0m                                          ^\u001b[0m\n\u001b[0;31mSyntaxError\u001b[0m\u001b[0;31m:\u001b[0m EOL while scanning string literal\n"
     ]
    }
   ],
   "source": [
    "def new_telco_churn_df():\n",
    "    '''\n",
    "    This function reads the telco_churn (NOT telco_normalized) data from the Codeup database into a DataFrame.\n",
    "    '''\n",
    "    # Create SQL query.\n",
    "    sql_query = 'SELECT * FROM customers\\n\n",
    "                    LEFT JOIN internet_service_types USING (internet_service_type_id)\\n\n",
    "                    LEFT JOIN contract_types USING (contract_type_id)\\n\n",
    "                    LEFT JOIN payment_types USING (payment_type_id)\\n\n",
    "                    LEFT JOIN customer_churn USING (customer_id)\\n\n",
    "                    LEFT JOIN customer_contracts USING (customer_id)\\n\n",
    "                    LEFT JOIN customer_details USING (customer_id)\\n\n",
    "                    LEFT JOIN customer_payments USING (customer_id)\\n\n",
    "                    LEFT JOIN customer_signups USING (customer_id)\\n\n",
    "                    LEFT JOIN customer_subscriptions USING (customer_id)'\n",
    "    \n",
    "    # Read in DataFrame from Codeup db using defined functions.\n",
    "    df = pd.read_sql(sql_query, get_db_url('telco_churn'))\n",
    "    \n",
    "    return df"
   ]
  },
  {
   "cell_type": "code",
   "execution_count": 15,
   "id": "d91aea6a",
   "metadata": {},
   "outputs": [],
   "source": [
    "def get_telco_churn_df():\n",
    "    '''\n",
    "    This function reads in telco_churn (NOT telco_normalized) data from Codeup database, writes data to\n",
    "    a csv file if a local file does not exist, and returns a DataFrame.\n",
    "    '''\n",
    "    # Checks for csv file existence\n",
    "    if os.path.isfile('telco_churn_df.csv'):\n",
    "        \n",
    "        # If csv file exists, reads in data from the csv file.\n",
    "        df = pd.read_csv('telco_churn_df.csv', index_col=0)\n",
    "        \n",
    "    else:\n",
    "        \n",
    "        # If csv file does not exist, uses new_telco_churn_df function to read fresh data from telco db into a DataFrame\n",
    "        df = new_telco_churn_df()\n",
    "        \n",
    "        # Cache data into a new csv file\n",
    "        df.to_csv('telco_churn_df.csv')\n",
    "        \n",
    "    return df"
   ]
  },
  {
   "cell_type": "code",
   "execution_count": null,
   "id": "da99bb28",
   "metadata": {},
   "outputs": [],
   "source": []
  }
 ],
 "metadata": {
  "kernelspec": {
   "display_name": "Python 3 (ipykernel)",
   "language": "python",
   "name": "python3"
  },
  "language_info": {
   "codemirror_mode": {
    "name": "ipython",
    "version": 3
   },
   "file_extension": ".py",
   "mimetype": "text/x-python",
   "name": "python",
   "nbconvert_exporter": "python",
   "pygments_lexer": "ipython3",
   "version": "3.9.12"
  }
 },
 "nbformat": 4,
 "nbformat_minor": 5
}
